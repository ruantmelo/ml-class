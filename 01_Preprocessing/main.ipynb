{
 "cells": [
  {
   "cell_type": "markdown",
   "metadata": {},
   "source": []
  },
  {
   "cell_type": "markdown",
   "metadata": {},
   "source": [
    "## Preparação do ambiente"
   ]
  },
  {
   "cell_type": "code",
   "execution_count": 113,
   "metadata": {},
   "outputs": [
    {
     "name": "stdout",
     "output_type": "stream",
     "text": [
      "Requirement already satisfied: pandas in /home/ruantmelo/.asdf/installs/python/3.11.6/lib/python3.11/site-packages (2.2.1)\n",
      "Requirement already satisfied: seaborn in /home/ruantmelo/.asdf/installs/python/3.11.6/lib/python3.11/site-packages (0.13.2)\n",
      "Requirement already satisfied: matplotlib in /home/ruantmelo/.asdf/installs/python/3.11.6/lib/python3.11/site-packages (3.9.0)\n",
      "Requirement already satisfied: scikit-learn in /home/ruantmelo/.asdf/installs/python/3.11.6/lib/python3.11/site-packages (1.5.1)\n",
      "Requirement already satisfied: numpy in /home/ruantmelo/.asdf/installs/python/3.11.6/lib/python3.11/site-packages (1.26.4)\n",
      "Requirement already satisfied: python-dateutil>=2.8.2 in /home/ruantmelo/.asdf/installs/python/3.11.6/lib/python3.11/site-packages (from pandas) (2.9.0.post0)\n",
      "Requirement already satisfied: pytz>=2020.1 in /home/ruantmelo/.asdf/installs/python/3.11.6/lib/python3.11/site-packages (from pandas) (2024.1)\n",
      "Requirement already satisfied: tzdata>=2022.7 in /home/ruantmelo/.asdf/installs/python/3.11.6/lib/python3.11/site-packages (from pandas) (2024.1)\n",
      "Requirement already satisfied: contourpy>=1.0.1 in /home/ruantmelo/.asdf/installs/python/3.11.6/lib/python3.11/site-packages (from matplotlib) (1.2.1)\n",
      "Requirement already satisfied: cycler>=0.10 in /home/ruantmelo/.asdf/installs/python/3.11.6/lib/python3.11/site-packages (from matplotlib) (0.12.1)\n",
      "Requirement already satisfied: fonttools>=4.22.0 in /home/ruantmelo/.asdf/installs/python/3.11.6/lib/python3.11/site-packages (from matplotlib) (4.53.1)\n",
      "Requirement already satisfied: kiwisolver>=1.3.1 in /home/ruantmelo/.asdf/installs/python/3.11.6/lib/python3.11/site-packages (from matplotlib) (1.4.5)\n",
      "Requirement already satisfied: packaging>=20.0 in /home/ruantmelo/.asdf/installs/python/3.11.6/lib/python3.11/site-packages (from matplotlib) (24.1)\n",
      "Requirement already satisfied: pillow>=8 in /home/ruantmelo/.asdf/installs/python/3.11.6/lib/python3.11/site-packages (from matplotlib) (10.4.0)\n",
      "Requirement already satisfied: pyparsing>=2.3.1 in /home/ruantmelo/.asdf/installs/python/3.11.6/lib/python3.11/site-packages (from matplotlib) (3.1.2)\n",
      "Requirement already satisfied: scipy>=1.6.0 in /home/ruantmelo/.asdf/installs/python/3.11.6/lib/python3.11/site-packages (from scikit-learn) (1.14.0)\n",
      "Requirement already satisfied: joblib>=1.2.0 in /home/ruantmelo/.asdf/installs/python/3.11.6/lib/python3.11/site-packages (from scikit-learn) (1.4.2)\n",
      "Requirement already satisfied: threadpoolctl>=3.1.0 in /home/ruantmelo/.asdf/installs/python/3.11.6/lib/python3.11/site-packages (from scikit-learn) (3.5.0)\n",
      "Requirement already satisfied: six>=1.5 in /home/ruantmelo/.asdf/installs/python/3.11.6/lib/python3.11/site-packages (from python-dateutil>=2.8.2->pandas) (1.16.0)\n",
      "\n",
      "\u001b[1m[\u001b[0m\u001b[34;49mnotice\u001b[0m\u001b[1;39;49m]\u001b[0m\u001b[39;49m A new release of pip is available: \u001b[0m\u001b[31;49m23.2.1\u001b[0m\u001b[39;49m -> \u001b[0m\u001b[32;49m24.2\u001b[0m\n",
      "\u001b[1m[\u001b[0m\u001b[34;49mnotice\u001b[0m\u001b[1;39;49m]\u001b[0m\u001b[39;49m To update, run: \u001b[0m\u001b[32;49mpip install --upgrade pip\u001b[0m\n",
      "Note: you may need to restart the kernel to use updated packages.\n"
     ]
    }
   ],
   "source": [
    "pip install pandas seaborn matplotlib scikit-learn numpy"
   ]
  },
  {
   "cell_type": "code",
   "execution_count": 114,
   "metadata": {},
   "outputs": [],
   "source": [
    "import pandas as pd\n",
    "import matplotlib.pyplot as plt\n",
    "import seaborn as sns\n",
    "import numpy as np\n",
    "# from sklearn.linear_model import LinearRegression\n"
   ]
  },
  {
   "cell_type": "code",
   "execution_count": 115,
   "metadata": {},
   "outputs": [
    {
     "data": {
      "text/html": [
       "<div>\n",
       "<style scoped>\n",
       "    .dataframe tbody tr th:only-of-type {\n",
       "        vertical-align: middle;\n",
       "    }\n",
       "\n",
       "    .dataframe tbody tr th {\n",
       "        vertical-align: top;\n",
       "    }\n",
       "\n",
       "    .dataframe thead th {\n",
       "        text-align: right;\n",
       "    }\n",
       "</style>\n",
       "<table border=\"1\" class=\"dataframe\">\n",
       "  <thead>\n",
       "    <tr style=\"text-align: right;\">\n",
       "      <th></th>\n",
       "      <th>Pregnancies</th>\n",
       "      <th>Glucose</th>\n",
       "      <th>BloodPressure</th>\n",
       "      <th>SkinThickness</th>\n",
       "      <th>Insulin</th>\n",
       "      <th>BMI</th>\n",
       "      <th>DiabetesPedigreeFunction</th>\n",
       "      <th>Age</th>\n",
       "      <th>Outcome</th>\n",
       "    </tr>\n",
       "  </thead>\n",
       "  <tbody>\n",
       "    <tr>\n",
       "      <th>0</th>\n",
       "      <td>6</td>\n",
       "      <td>148.0</td>\n",
       "      <td>72.0</td>\n",
       "      <td>35.0</td>\n",
       "      <td>NaN</td>\n",
       "      <td>33.6</td>\n",
       "      <td>0.627</td>\n",
       "      <td>50</td>\n",
       "      <td>1</td>\n",
       "    </tr>\n",
       "    <tr>\n",
       "      <th>1</th>\n",
       "      <td>1</td>\n",
       "      <td>85.0</td>\n",
       "      <td>66.0</td>\n",
       "      <td>29.0</td>\n",
       "      <td>NaN</td>\n",
       "      <td>26.6</td>\n",
       "      <td>0.351</td>\n",
       "      <td>31</td>\n",
       "      <td>0</td>\n",
       "    </tr>\n",
       "    <tr>\n",
       "      <th>2</th>\n",
       "      <td>8</td>\n",
       "      <td>183.0</td>\n",
       "      <td>64.0</td>\n",
       "      <td>NaN</td>\n",
       "      <td>NaN</td>\n",
       "      <td>23.3</td>\n",
       "      <td>0.672</td>\n",
       "      <td>32</td>\n",
       "      <td>1</td>\n",
       "    </tr>\n",
       "    <tr>\n",
       "      <th>3</th>\n",
       "      <td>0</td>\n",
       "      <td>137.0</td>\n",
       "      <td>40.0</td>\n",
       "      <td>35.0</td>\n",
       "      <td>168.0</td>\n",
       "      <td>43.1</td>\n",
       "      <td>2.288</td>\n",
       "      <td>33</td>\n",
       "      <td>1</td>\n",
       "    </tr>\n",
       "    <tr>\n",
       "      <th>4</th>\n",
       "      <td>5</td>\n",
       "      <td>116.0</td>\n",
       "      <td>74.0</td>\n",
       "      <td>NaN</td>\n",
       "      <td>NaN</td>\n",
       "      <td>25.6</td>\n",
       "      <td>0.201</td>\n",
       "      <td>30</td>\n",
       "      <td>0</td>\n",
       "    </tr>\n",
       "  </tbody>\n",
       "</table>\n",
       "</div>"
      ],
      "text/plain": [
       "   Pregnancies  Glucose  BloodPressure  SkinThickness  Insulin   BMI  \\\n",
       "0            6    148.0           72.0           35.0      NaN  33.6   \n",
       "1            1     85.0           66.0           29.0      NaN  26.6   \n",
       "2            8    183.0           64.0            NaN      NaN  23.3   \n",
       "3            0    137.0           40.0           35.0    168.0  43.1   \n",
       "4            5    116.0           74.0            NaN      NaN  25.6   \n",
       "\n",
       "   DiabetesPedigreeFunction  Age  Outcome  \n",
       "0                     0.627   50        1  \n",
       "1                     0.351   31        0  \n",
       "2                     0.672   32        1  \n",
       "3                     2.288   33        1  \n",
       "4                     0.201   30        0  "
      ]
     },
     "execution_count": 115,
     "metadata": {},
     "output_type": "execute_result"
    }
   ],
   "source": [
    "df = pd.read_csv('diabetes_dataset.csv')\n",
    "df.head()"
   ]
  },
  {
   "cell_type": "markdown",
   "metadata": {},
   "source": [
    "## Análise dos dados"
   ]
  },
  {
   "cell_type": "code",
   "execution_count": 116,
   "metadata": {},
   "outputs": [
    {
     "name": "stdout",
     "output_type": "stream",
     "text": [
      "<class 'pandas.core.frame.DataFrame'>\n",
      "RangeIndex: 572 entries, 0 to 571\n",
      "Data columns (total 9 columns):\n",
      " #   Column                    Non-Null Count  Dtype  \n",
      "---  ------                    --------------  -----  \n",
      " 0   Pregnancies               572 non-null    int64  \n",
      " 1   Glucose                   567 non-null    float64\n",
      " 2   BloodPressure             537 non-null    float64\n",
      " 3   SkinThickness             345 non-null    float64\n",
      " 4   Insulin                   198 non-null    float64\n",
      " 5   BMI                       561 non-null    float64\n",
      " 6   DiabetesPedigreeFunction  572 non-null    float64\n",
      " 7   Age                       572 non-null    int64  \n",
      " 8   Outcome                   572 non-null    int64  \n",
      "dtypes: float64(6), int64(3)\n",
      "memory usage: 40.3 KB\n"
     ]
    }
   ],
   "source": [
    "df.info()"
   ]
  },
  {
   "cell_type": "code",
   "execution_count": 117,
   "metadata": {},
   "outputs": [
    {
     "data": {
      "text/html": [
       "<div>\n",
       "<style scoped>\n",
       "    .dataframe tbody tr th:only-of-type {\n",
       "        vertical-align: middle;\n",
       "    }\n",
       "\n",
       "    .dataframe tbody tr th {\n",
       "        vertical-align: top;\n",
       "    }\n",
       "\n",
       "    .dataframe thead th {\n",
       "        text-align: right;\n",
       "    }\n",
       "</style>\n",
       "<table border=\"1\" class=\"dataframe\">\n",
       "  <thead>\n",
       "    <tr style=\"text-align: right;\">\n",
       "      <th></th>\n",
       "      <th>Pregnancies</th>\n",
       "      <th>Glucose</th>\n",
       "      <th>BloodPressure</th>\n",
       "      <th>SkinThickness</th>\n",
       "      <th>Insulin</th>\n",
       "      <th>BMI</th>\n",
       "      <th>DiabetesPedigreeFunction</th>\n",
       "      <th>Age</th>\n",
       "      <th>Outcome</th>\n",
       "    </tr>\n",
       "  </thead>\n",
       "  <tbody>\n",
       "    <tr>\n",
       "      <th>count</th>\n",
       "      <td>572.000000</td>\n",
       "      <td>567.000000</td>\n",
       "      <td>537.000000</td>\n",
       "      <td>345.000000</td>\n",
       "      <td>198.000000</td>\n",
       "      <td>561.000000</td>\n",
       "      <td>572.000000</td>\n",
       "      <td>572.000000</td>\n",
       "      <td>572.000000</td>\n",
       "    </tr>\n",
       "    <tr>\n",
       "      <th>mean</th>\n",
       "      <td>4.106643</td>\n",
       "      <td>121.647266</td>\n",
       "      <td>73.150838</td>\n",
       "      <td>29.356522</td>\n",
       "      <td>156.934343</td>\n",
       "      <td>32.327629</td>\n",
       "      <td>0.459121</td>\n",
       "      <td>34.043706</td>\n",
       "      <td>0.358392</td>\n",
       "    </tr>\n",
       "    <tr>\n",
       "      <th>std</th>\n",
       "      <td>3.446995</td>\n",
       "      <td>30.132084</td>\n",
       "      <td>12.347184</td>\n",
       "      <td>10.433503</td>\n",
       "      <td>119.066934</td>\n",
       "      <td>6.735437</td>\n",
       "      <td>0.336124</td>\n",
       "      <td>12.103893</td>\n",
       "      <td>0.479948</td>\n",
       "    </tr>\n",
       "    <tr>\n",
       "      <th>min</th>\n",
       "      <td>0.000000</td>\n",
       "      <td>44.000000</td>\n",
       "      <td>30.000000</td>\n",
       "      <td>7.000000</td>\n",
       "      <td>16.000000</td>\n",
       "      <td>18.200000</td>\n",
       "      <td>0.078000</td>\n",
       "      <td>21.000000</td>\n",
       "      <td>0.000000</td>\n",
       "    </tr>\n",
       "    <tr>\n",
       "      <th>25%</th>\n",
       "      <td>1.000000</td>\n",
       "      <td>100.000000</td>\n",
       "      <td>65.000000</td>\n",
       "      <td>22.000000</td>\n",
       "      <td>77.500000</td>\n",
       "      <td>27.500000</td>\n",
       "      <td>0.236000</td>\n",
       "      <td>24.000000</td>\n",
       "      <td>0.000000</td>\n",
       "    </tr>\n",
       "    <tr>\n",
       "      <th>50%</th>\n",
       "      <td>3.000000</td>\n",
       "      <td>117.000000</td>\n",
       "      <td>72.000000</td>\n",
       "      <td>30.000000</td>\n",
       "      <td>129.500000</td>\n",
       "      <td>32.000000</td>\n",
       "      <td>0.344500</td>\n",
       "      <td>30.000000</td>\n",
       "      <td>0.000000</td>\n",
       "    </tr>\n",
       "    <tr>\n",
       "      <th>75%</th>\n",
       "      <td>6.000000</td>\n",
       "      <td>140.000000</td>\n",
       "      <td>80.000000</td>\n",
       "      <td>36.000000</td>\n",
       "      <td>185.000000</td>\n",
       "      <td>36.600000</td>\n",
       "      <td>0.605500</td>\n",
       "      <td>41.000000</td>\n",
       "      <td>1.000000</td>\n",
       "    </tr>\n",
       "    <tr>\n",
       "      <th>max</th>\n",
       "      <td>17.000000</td>\n",
       "      <td>199.000000</td>\n",
       "      <td>122.000000</td>\n",
       "      <td>99.000000</td>\n",
       "      <td>744.000000</td>\n",
       "      <td>57.300000</td>\n",
       "      <td>2.329000</td>\n",
       "      <td>81.000000</td>\n",
       "      <td>1.000000</td>\n",
       "    </tr>\n",
       "  </tbody>\n",
       "</table>\n",
       "</div>"
      ],
      "text/plain": [
       "       Pregnancies     Glucose  BloodPressure  SkinThickness     Insulin  \\\n",
       "count   572.000000  567.000000     537.000000     345.000000  198.000000   \n",
       "mean      4.106643  121.647266      73.150838      29.356522  156.934343   \n",
       "std       3.446995   30.132084      12.347184      10.433503  119.066934   \n",
       "min       0.000000   44.000000      30.000000       7.000000   16.000000   \n",
       "25%       1.000000  100.000000      65.000000      22.000000   77.500000   \n",
       "50%       3.000000  117.000000      72.000000      30.000000  129.500000   \n",
       "75%       6.000000  140.000000      80.000000      36.000000  185.000000   \n",
       "max      17.000000  199.000000     122.000000      99.000000  744.000000   \n",
       "\n",
       "              BMI  DiabetesPedigreeFunction         Age     Outcome  \n",
       "count  561.000000                572.000000  572.000000  572.000000  \n",
       "mean    32.327629                  0.459121   34.043706    0.358392  \n",
       "std      6.735437                  0.336124   12.103893    0.479948  \n",
       "min     18.200000                  0.078000   21.000000    0.000000  \n",
       "25%     27.500000                  0.236000   24.000000    0.000000  \n",
       "50%     32.000000                  0.344500   30.000000    0.000000  \n",
       "75%     36.600000                  0.605500   41.000000    1.000000  \n",
       "max     57.300000                  2.329000   81.000000    1.000000  "
      ]
     },
     "execution_count": 117,
     "metadata": {},
     "output_type": "execute_result"
    }
   ],
   "source": [
    "df.describe()\n"
   ]
  },
  {
   "cell_type": "code",
   "execution_count": 118,
   "metadata": {},
   "outputs": [
    {
     "data": {
      "text/plain": [
       "Pregnancies                   0\n",
       "Glucose                       5\n",
       "BloodPressure                35\n",
       "SkinThickness               227\n",
       "Insulin                     374\n",
       "BMI                          11\n",
       "DiabetesPedigreeFunction      0\n",
       "Age                           0\n",
       "Outcome                       0\n",
       "dtype: int64"
      ]
     },
     "execution_count": 118,
     "metadata": {},
     "output_type": "execute_result"
    }
   ],
   "source": [
    "df.isnull().sum()"
   ]
  },
  {
   "cell_type": "code",
   "execution_count": 119,
   "metadata": {},
   "outputs": [
    {
     "data": {
      "image/png": "[encoded data removed]",
      "text/plain": [
       "<Figure size 1600x1000 with 1 Axes>"
      ]
     },
     "metadata": {},
     "output_type": "display_data"
    }
   ],
   "source": [
    "plt.figure(figsize= (16,10))\n",
    "sns.boxplot(data= df.drop(columns=['Outcome']))\n",
    "plt.savefig('boxplot.png')\n",
    "plt.show()"
   ]
  },
  {
   "cell_type": "markdown",
   "metadata": {},
   "source": [
    "## Pré-processamento"
   ]
  },
  {
   "cell_type": "markdown",
   "metadata": {},
   "source": [
    "### Remoção de Outliers para Correlação"
   ]
  },
  {
   "cell_type": "code",
   "execution_count": 120,
   "metadata": {},
   "outputs": [],
   "source": [
    "df_no_outliers = df.copy()\n",
    "df_no_outliers = df_no_outliers[df_no_outliers['BloodPressure'] < 120]\n",
    "df_no_outliers = df_no_outliers[df_no_outliers['BloodPressure'] > 40]\n",
    "\n",
    "df_no_outliers = df_no_outliers[df_no_outliers['SkinThickness'] < 45]\n",
    "df_no_outliers = df_no_outliers[df_no_outliers['SkinThickness'] > 15]\n",
    "df_no_outliers = df_no_outliers[df_no_outliers['Insulin'] < 320]\n",
    "df_no_outliers = df_no_outliers[df_no_outliers['Glucose'] < 200]\n",
    "\n",
    "df_no_outliers = df_no_outliers[df_no_outliers['BMI'] < 50]\n",
    "\n"
   ]
  },
  {
   "cell_type": "code",
   "execution_count": 121,
   "metadata": {},
   "outputs": [
    {
     "data": {
      "image/png": "[encoded data removed]",
      "text/plain": [
       "<Figure size 1600x1000 with 1 Axes>"
      ]
     },
     "metadata": {},
     "output_type": "display_data"
    }
   ],
   "source": [
    "plt.figure(figsize= (16,10))\n",
    "sns.boxplot(data= df_no_outliers.drop(columns=['Outcome']))\n",
    "plt.savefig('boxplot.png')\n",
    "plt.show()"
   ]
  },
  {
   "cell_type": "code",
   "execution_count": 122,
   "metadata": {},
   "outputs": [
    {
     "name": "stdout",
     "output_type": "stream",
     "text": [
      "Number of sick patients: 45\n",
      "Number of healthy patients: 98\n"
     ]
    }
   ],
   "source": [
    "qtd_sick = df_no_outliers[df_no_outliers['Outcome'] == 1].shape[0]\n",
    "qtd_healthy = df_no_outliers[df_no_outliers['Outcome'] == 0].shape[0]\n",
    "\n",
    "print(f\"Number of sick patients: {qtd_sick}\")\n",
    "print(f\"Number of healthy patients: {qtd_healthy}\")"
   ]
  },
  {
   "cell_type": "code",
   "execution_count": 123,
   "metadata": {},
   "outputs": [
    {
     "data": {
      "text/plain": [
       "Pregnancies                 0\n",
       "Glucose                     0\n",
       "BloodPressure               0\n",
       "SkinThickness               0\n",
       "Insulin                     0\n",
       "BMI                         0\n",
       "DiabetesPedigreeFunction    0\n",
       "Age                         0\n",
       "Outcome                     0\n",
       "dtype: int64"
      ]
     },
     "execution_count": 123,
     "metadata": {},
     "output_type": "execute_result"
    }
   ],
   "source": [
    "df_no_outliers.isnull().sum()"
   ]
  },
  {
   "cell_type": "code",
   "execution_count": 124,
   "metadata": {},
   "outputs": [
    {
     "data": {
      "text/html": [
       "<div>\n",
       "<style scoped>\n",
       "    .dataframe tbody tr th:only-of-type {\n",
       "        vertical-align: middle;\n",
       "    }\n",
       "\n",
       "    .dataframe tbody tr th {\n",
       "        vertical-align: top;\n",
       "    }\n",
       "\n",
       "    .dataframe thead th {\n",
       "        text-align: right;\n",
       "    }\n",
       "</style>\n",
       "<table border=\"1\" class=\"dataframe\">\n",
       "  <thead>\n",
       "    <tr style=\"text-align: right;\">\n",
       "      <th></th>\n",
       "      <th>Pregnancies</th>\n",
       "      <th>Glucose</th>\n",
       "      <th>BloodPressure</th>\n",
       "      <th>SkinThickness</th>\n",
       "      <th>Insulin</th>\n",
       "      <th>BMI</th>\n",
       "      <th>DiabetesPedigreeFunction</th>\n",
       "      <th>Age</th>\n",
       "      <th>Outcome</th>\n",
       "    </tr>\n",
       "  </thead>\n",
       "  <tbody>\n",
       "    <tr>\n",
       "      <th>count</th>\n",
       "      <td>143.000000</td>\n",
       "      <td>143.000000</td>\n",
       "      <td>143.000000</td>\n",
       "      <td>143.000000</td>\n",
       "      <td>143.000000</td>\n",
       "      <td>143.000000</td>\n",
       "      <td>143.000000</td>\n",
       "      <td>143.000000</td>\n",
       "      <td>143.000000</td>\n",
       "    </tr>\n",
       "    <tr>\n",
       "      <th>mean</th>\n",
       "      <td>3.797203</td>\n",
       "      <td>121.335664</td>\n",
       "      <td>71.251748</td>\n",
       "      <td>29.335664</td>\n",
       "      <td>129.398601</td>\n",
       "      <td>33.062937</td>\n",
       "      <td>0.500084</td>\n",
       "      <td>31.237762</td>\n",
       "      <td>0.314685</td>\n",
       "    </tr>\n",
       "    <tr>\n",
       "      <th>std</th>\n",
       "      <td>3.587065</td>\n",
       "      <td>28.714217</td>\n",
       "      <td>11.410687</td>\n",
       "      <td>7.847978</td>\n",
       "      <td>66.929450</td>\n",
       "      <td>5.501699</td>\n",
       "      <td>0.317053</td>\n",
       "      <td>10.090407</td>\n",
       "      <td>0.466023</td>\n",
       "    </tr>\n",
       "    <tr>\n",
       "      <th>min</th>\n",
       "      <td>0.000000</td>\n",
       "      <td>68.000000</td>\n",
       "      <td>44.000000</td>\n",
       "      <td>16.000000</td>\n",
       "      <td>16.000000</td>\n",
       "      <td>20.400000</td>\n",
       "      <td>0.085000</td>\n",
       "      <td>21.000000</td>\n",
       "      <td>0.000000</td>\n",
       "    </tr>\n",
       "    <tr>\n",
       "      <th>25%</th>\n",
       "      <td>1.000000</td>\n",
       "      <td>99.500000</td>\n",
       "      <td>64.000000</td>\n",
       "      <td>23.000000</td>\n",
       "      <td>75.000000</td>\n",
       "      <td>29.650000</td>\n",
       "      <td>0.260000</td>\n",
       "      <td>24.000000</td>\n",
       "      <td>0.000000</td>\n",
       "    </tr>\n",
       "    <tr>\n",
       "      <th>50%</th>\n",
       "      <td>3.000000</td>\n",
       "      <td>119.000000</td>\n",
       "      <td>72.000000</td>\n",
       "      <td>29.000000</td>\n",
       "      <td>120.000000</td>\n",
       "      <td>33.200000</td>\n",
       "      <td>0.423000</td>\n",
       "      <td>28.000000</td>\n",
       "      <td>0.000000</td>\n",
       "    </tr>\n",
       "    <tr>\n",
       "      <th>75%</th>\n",
       "      <td>6.000000</td>\n",
       "      <td>139.500000</td>\n",
       "      <td>78.000000</td>\n",
       "      <td>36.000000</td>\n",
       "      <td>168.000000</td>\n",
       "      <td>36.300000</td>\n",
       "      <td>0.685000</td>\n",
       "      <td>37.500000</td>\n",
       "      <td>1.000000</td>\n",
       "    </tr>\n",
       "    <tr>\n",
       "      <th>max</th>\n",
       "      <td>17.000000</td>\n",
       "      <td>196.000000</td>\n",
       "      <td>106.000000</td>\n",
       "      <td>44.000000</td>\n",
       "      <td>318.000000</td>\n",
       "      <td>47.900000</td>\n",
       "      <td>1.699000</td>\n",
       "      <td>81.000000</td>\n",
       "      <td>1.000000</td>\n",
       "    </tr>\n",
       "  </tbody>\n",
       "</table>\n",
       "</div>"
      ],
      "text/plain": [
       "       Pregnancies     Glucose  BloodPressure  SkinThickness     Insulin  \\\n",
       "count   143.000000  143.000000     143.000000     143.000000  143.000000   \n",
       "mean      3.797203  121.335664      71.251748      29.335664  129.398601   \n",
       "std       3.587065   28.714217      11.410687       7.847978   66.929450   \n",
       "min       0.000000   68.000000      44.000000      16.000000   16.000000   \n",
       "25%       1.000000   99.500000      64.000000      23.000000   75.000000   \n",
       "50%       3.000000  119.000000      72.000000      29.000000  120.000000   \n",
       "75%       6.000000  139.500000      78.000000      36.000000  168.000000   \n",
       "max      17.000000  196.000000     106.000000      44.000000  318.000000   \n",
       "\n",
       "              BMI  DiabetesPedigreeFunction         Age     Outcome  \n",
       "count  143.000000                143.000000  143.000000  143.000000  \n",
       "mean    33.062937                  0.500084   31.237762    0.314685  \n",
       "std      5.501699                  0.317053   10.090407    0.466023  \n",
       "min     20.400000                  0.085000   21.000000    0.000000  \n",
       "25%     29.650000                  0.260000   24.000000    0.000000  \n",
       "50%     33.200000                  0.423000   28.000000    0.000000  \n",
       "75%     36.300000                  0.685000   37.500000    1.000000  \n",
       "max     47.900000                  1.699000   81.000000    1.000000  "
      ]
     },
     "execution_count": 124,
     "metadata": {},
     "output_type": "execute_result"
    }
   ],
   "source": [
    "df_no_outliers.describe()"
   ]
  },
  {
   "cell_type": "code",
   "execution_count": 125,
   "metadata": {},
   "outputs": [
    {
     "data": {
      "text/html": [
       "<div>\n",
       "<style scoped>\n",
       "    .dataframe tbody tr th:only-of-type {\n",
       "        vertical-align: middle;\n",
       "    }\n",
       "\n",
       "    .dataframe tbody tr th {\n",
       "        vertical-align: top;\n",
       "    }\n",
       "\n",
       "    .dataframe thead th {\n",
       "        text-align: right;\n",
       "    }\n",
       "</style>\n",
       "<table border=\"1\" class=\"dataframe\">\n",
       "  <thead>\n",
       "    <tr style=\"text-align: right;\">\n",
       "      <th></th>\n",
       "      <th>Pregnancies</th>\n",
       "      <th>Glucose</th>\n",
       "      <th>BloodPressure</th>\n",
       "      <th>SkinThickness</th>\n",
       "      <th>Insulin</th>\n",
       "      <th>BMI</th>\n",
       "      <th>DiabetesPedigreeFunction</th>\n",
       "      <th>Age</th>\n",
       "      <th>Outcome</th>\n",
       "    </tr>\n",
       "  </thead>\n",
       "  <tbody>\n",
       "    <tr>\n",
       "      <th>Pregnancies</th>\n",
       "      <td>1.000000</td>\n",
       "      <td>0.126948</td>\n",
       "      <td>0.208579</td>\n",
       "      <td>0.170792</td>\n",
       "      <td>0.008494</td>\n",
       "      <td>-0.046238</td>\n",
       "      <td>0.020561</td>\n",
       "      <td>0.715588</td>\n",
       "      <td>0.164827</td>\n",
       "    </tr>\n",
       "    <tr>\n",
       "      <th>Glucose</th>\n",
       "      <td>0.126948</td>\n",
       "      <td>1.000000</td>\n",
       "      <td>0.115138</td>\n",
       "      <td>0.130092</td>\n",
       "      <td>0.604131</td>\n",
       "      <td>0.099229</td>\n",
       "      <td>0.103385</td>\n",
       "      <td>0.199053</td>\n",
       "      <td>0.517267</td>\n",
       "    </tr>\n",
       "    <tr>\n",
       "      <th>BloodPressure</th>\n",
       "      <td>0.208579</td>\n",
       "      <td>0.115138</td>\n",
       "      <td>1.000000</td>\n",
       "      <td>0.179056</td>\n",
       "      <td>0.011560</td>\n",
       "      <td>0.227397</td>\n",
       "      <td>-0.052304</td>\n",
       "      <td>0.309880</td>\n",
       "      <td>0.104186</td>\n",
       "    </tr>\n",
       "    <tr>\n",
       "      <th>SkinThickness</th>\n",
       "      <td>0.170792</td>\n",
       "      <td>0.130092</td>\n",
       "      <td>0.179056</td>\n",
       "      <td>1.000000</td>\n",
       "      <td>0.129444</td>\n",
       "      <td>0.543972</td>\n",
       "      <td>-0.016625</td>\n",
       "      <td>0.139227</td>\n",
       "      <td>0.192349</td>\n",
       "    </tr>\n",
       "    <tr>\n",
       "      <th>Insulin</th>\n",
       "      <td>0.008494</td>\n",
       "      <td>0.604131</td>\n",
       "      <td>0.011560</td>\n",
       "      <td>0.129444</td>\n",
       "      <td>1.000000</td>\n",
       "      <td>0.249380</td>\n",
       "      <td>0.132493</td>\n",
       "      <td>0.007898</td>\n",
       "      <td>0.344556</td>\n",
       "    </tr>\n",
       "    <tr>\n",
       "      <th>BMI</th>\n",
       "      <td>-0.046238</td>\n",
       "      <td>0.099229</td>\n",
       "      <td>0.227397</td>\n",
       "      <td>0.543972</td>\n",
       "      <td>0.249380</td>\n",
       "      <td>1.000000</td>\n",
       "      <td>0.042631</td>\n",
       "      <td>-0.031592</td>\n",
       "      <td>0.158944</td>\n",
       "    </tr>\n",
       "    <tr>\n",
       "      <th>DiabetesPedigreeFunction</th>\n",
       "      <td>0.020561</td>\n",
       "      <td>0.103385</td>\n",
       "      <td>-0.052304</td>\n",
       "      <td>-0.016625</td>\n",
       "      <td>0.132493</td>\n",
       "      <td>0.042631</td>\n",
       "      <td>1.000000</td>\n",
       "      <td>0.060515</td>\n",
       "      <td>0.243564</td>\n",
       "    </tr>\n",
       "    <tr>\n",
       "      <th>Age</th>\n",
       "      <td>0.715588</td>\n",
       "      <td>0.199053</td>\n",
       "      <td>0.309880</td>\n",
       "      <td>0.139227</td>\n",
       "      <td>0.007898</td>\n",
       "      <td>-0.031592</td>\n",
       "      <td>0.060515</td>\n",
       "      <td>1.000000</td>\n",
       "      <td>0.181660</td>\n",
       "    </tr>\n",
       "    <tr>\n",
       "      <th>Outcome</th>\n",
       "      <td>0.164827</td>\n",
       "      <td>0.517267</td>\n",
       "      <td>0.104186</td>\n",
       "      <td>0.192349</td>\n",
       "      <td>0.344556</td>\n",
       "      <td>0.158944</td>\n",
       "      <td>0.243564</td>\n",
       "      <td>0.181660</td>\n",
       "      <td>1.000000</td>\n",
       "    </tr>\n",
       "  </tbody>\n",
       "</table>\n",
       "</div>"
      ],
      "text/plain": [
       "                          Pregnancies   Glucose  BloodPressure  SkinThickness  \\\n",
       "Pregnancies                  1.000000  0.126948       0.208579       0.170792   \n",
       "Glucose                      0.126948  1.000000       0.115138       0.130092   \n",
       "BloodPressure                0.208579  0.115138       1.000000       0.179056   \n",
       "SkinThickness                0.170792  0.130092       0.179056       1.000000   \n",
       "Insulin                      0.008494  0.604131       0.011560       0.129444   \n",
       "BMI                         -0.046238  0.099229       0.227397       0.543972   \n",
       "DiabetesPedigreeFunction     0.020561  0.103385      -0.052304      -0.016625   \n",
       "Age                          0.715588  0.199053       0.309880       0.139227   \n",
       "Outcome                      0.164827  0.517267       0.104186       0.192349   \n",
       "\n",
       "                           Insulin       BMI  DiabetesPedigreeFunction  \\\n",
       "Pregnancies               0.008494 -0.046238                  0.020561   \n",
       "Glucose                   0.604131  0.099229                  0.103385   \n",
       "BloodPressure             0.011560  0.227397                 -0.052304   \n",
       "SkinThickness             0.129444  0.543972                 -0.016625   \n",
       "Insulin                   1.000000  0.249380                  0.132493   \n",
       "BMI                       0.249380  1.000000                  0.042631   \n",
       "DiabetesPedigreeFunction  0.132493  0.042631                  1.000000   \n",
       "Age                       0.007898 -0.031592                  0.060515   \n",
       "Outcome                   0.344556  0.158944                  0.243564   \n",
       "\n",
       "                               Age   Outcome  \n",
       "Pregnancies               0.715588  0.164827  \n",
       "Glucose                   0.199053  0.517267  \n",
       "BloodPressure             0.309880  0.104186  \n",
       "SkinThickness             0.139227  0.192349  \n",
       "Insulin                   0.007898  0.344556  \n",
       "BMI                      -0.031592  0.158944  \n",
       "DiabetesPedigreeFunction  0.060515  0.243564  \n",
       "Age                       1.000000  0.181660  \n",
       "Outcome                   0.181660  1.000000  "
      ]
     },
     "execution_count": 125,
     "metadata": {},
     "output_type": "execute_result"
    }
   ],
   "source": [
    "df_no_outliers.corr()"
   ]
  },
  {
   "cell_type": "code",
   "execution_count": 126,
   "metadata": {},
   "outputs": [
    {
     "data": {
      "image/png": "[encoded data removed]",
      "text/plain": [
       "<Figure size 1600x1000 with 1 Axes>"
      ]
     },
     "metadata": {},
     "output_type": "display_data"
    }
   ],
   "source": [
    "plt.figure(figsize= (16,10))\n",
    "sns.boxplot(data= df_no_outliers.drop(columns=['Outcome']))\n",
    "plt.savefig('boxplot.png')\n",
    "plt.show()"
   ]
  },
  {
   "cell_type": "markdown",
   "metadata": {},
   "source": [
    "### Remoção de colunas não utilizadas"
   ]
  },
  {
   "cell_type": "code",
   "execution_count": 127,
   "metadata": {},
   "outputs": [
    {
     "data": {
      "text/plain": [
       "0      50\n",
       "1      31\n",
       "2      32\n",
       "3      33\n",
       "4      30\n",
       "       ..\n",
       "567    33\n",
       "568    27\n",
       "569    30\n",
       "570    47\n",
       "571    23\n",
       "Name: Age, Length: 572, dtype: int64"
      ]
     },
     "execution_count": 127,
     "metadata": {},
     "output_type": "execute_result"
    }
   ],
   "source": [
    "df.pop('Pregnancies')\n",
    "df.pop('Age')"
   ]
  },
  {
   "cell_type": "markdown",
   "metadata": {},
   "source": [
    "### Limpeza dos outliers das colunas selecionadas"
   ]
  },
  {
   "cell_type": "code",
   "execution_count": 128,
   "metadata": {},
   "outputs": [
    {
     "data": {
      "text/plain": [
       "Glucose                       5\n",
       "BloodPressure                35\n",
       "SkinThickness               227\n",
       "Insulin                     374\n",
       "BMI                          11\n",
       "DiabetesPedigreeFunction      0\n",
       "Outcome                       0\n",
       "dtype: int64"
      ]
     },
     "execution_count": 128,
     "metadata": {},
     "output_type": "execute_result"
    }
   ],
   "source": [
    "df.isnull().sum()"
   ]
  },
  {
   "cell_type": "markdown",
   "metadata": {},
   "source": [
    "### Preenchimento da coluna Glucose"
   ]
  },
  {
   "cell_type": "code",
   "execution_count": 129,
   "metadata": {},
   "outputs": [
    {
     "name": "stdout",
     "output_type": "stream",
     "text": [
      "mean glucose level for sick patients: 143.17777777777778\n",
      "mean glucose level for healthy patients: 111.3061224489796\n"
     ]
    }
   ],
   "source": [
    "mean_glucose_sick = df_no_outliers[df_no_outliers['Outcome'] == 1]['Glucose'].mean()\n",
    "mean_glucose_healthy = df_no_outliers[df_no_outliers['Outcome'] == 0]['Glucose'].mean()\n",
    "\n",
    "print(f\"mean glucose level for sick patients: {mean_glucose_sick}\")\n",
    "print(f\"mean glucose level for healthy patients: {mean_glucose_healthy}\")\n",
    "\n",
    "# Replace missing values with the mean glucose level for the corresponding outcome\n",
    "df.loc[(df['Outcome'] == 1) & (df['Glucose'].isnull()), 'Glucose'] = mean_glucose_sick\n",
    "df.loc[(df['Outcome'] == 0) & (df['Glucose'].isnull()), 'Glucose'] = mean_glucose_healthy"
   ]
  },
  {
   "cell_type": "markdown",
   "metadata": {},
   "source": [
    "### Preenchimento da coluna Insulin"
   ]
  },
  {
   "cell_type": "code",
   "execution_count": 130,
   "metadata": {},
   "outputs": [],
   "source": [
    "\n",
    "# mean_insulin_sick = df[df['Outcome'] == 1]['Insulin'].mean()\n",
    "# mean_insulin_healthy = df[df['Outcome'] == 0]['Insulin'].mean()\n",
    "# df.loc[(df['Outcome'] == 1) & (df['Insulin'].isnull()), 'Insulin'] = mean_insulin_sick\n",
    "\n",
    "#Drop null values from column Insulin\n",
    "df = df.dropna(subset=['Insulin'])\n",
    "\n",
    "\n",
    "# print(f\"Mean insulin level for sick patients: {mean_insulin_sick}\")\n",
    "# print(f\"Mean insulin level for healthy patients: {mean_insulin_healthy}\")\n",
    "\n",
    "## Replace missing values with the mean insulin level for the corresponding outcome\n",
    "# df.loc[(df['Outcome'] == 1) & (df['Insulin'].isnull()), 'Insulin'] = mean_insulin_sick\n",
    "# df.loc[(df['Outcome'] == 0) & (df['Insulin'].isnull()), 'Insulin'] = mean_insulin_healthy\n",
    "\n",
    "# df.head()"
   ]
  },
  {
   "cell_type": "markdown",
   "metadata": {},
   "source": [
    "### Preenchimento da coluna SkinThickness"
   ]
  },
  {
   "cell_type": "code",
   "execution_count": 131,
   "metadata": {},
   "outputs": [
    {
     "name": "stdout",
     "output_type": "stream",
     "text": [
      "mean skin thickness for sick patients: 31.555555555555557\n",
      "mean skin thickness for healthy patients: 28.316326530612244\n"
     ]
    }
   ],
   "source": [
    "mean_skin_thickness_sick = df_no_outliers[df_no_outliers['Outcome'] == 1]['SkinThickness'].mean()\n",
    "mean_skin_thickness_healthy = df_no_outliers[df_no_outliers['Outcome'] == 0]['SkinThickness'].mean()\n",
    "\n",
    "print(f\"mean skin thickness for sick patients: {mean_skin_thickness_sick}\")\n",
    "print(f\"mean skin thickness for healthy patients: {mean_skin_thickness_healthy}\")\n",
    "\n",
    "# Replace missing values with the mean skin thickness for the corresponding outcome\n",
    "df.loc[(df['Outcome'] == 1) & (df['SkinThickness'].isnull()), 'SkinThickness'] = mean_skin_thickness_sick\n",
    "df.loc[(df['Outcome'] == 0) & (df['SkinThickness'].isnull()), 'SkinThickness'] = mean_skin_thickness_healthy"
   ]
  },
  {
   "cell_type": "markdown",
   "metadata": {},
   "source": [
    "### Preenchimento da coluna BloodPressure"
   ]
  },
  {
   "cell_type": "code",
   "execution_count": 132,
   "metadata": {},
   "outputs": [
    {
     "name": "stdout",
     "output_type": "stream",
     "text": [
      "Mean blood pressure for sick patients: 73.0\n",
      "Mean blood pressure for healthy patients: 70.44897959183673\n"
     ]
    }
   ],
   "source": [
    "mean_blodd_pressure_sick = df_no_outliers[df_no_outliers['Outcome'] == 1]['BloodPressure'].mean()\n",
    "mean_blodd_pressure_healthy = df_no_outliers[df_no_outliers['Outcome'] == 0]['BloodPressure'].mean()\n",
    "\n",
    "print(f\"Mean blood pressure for sick patients: {mean_blodd_pressure_sick}\")\n",
    "print(f\"Mean blood pressure for healthy patients: {mean_blodd_pressure_healthy}\")\n",
    "\n",
    "# # Replace missing values with the mean blood pressure for the corresponding outcome\n",
    "df.loc[(df['Outcome'] == 1) & (df['BloodPressure'].isnull()), 'BloodPressure'] = mean_blodd_pressure_sick\n",
    "df.loc[(df['Outcome'] == 0) & (df['BloodPressure'].isnull()), 'BloodPressure'] = mean_blodd_pressure_healthy"
   ]
  },
  {
   "cell_type": "markdown",
   "metadata": {},
   "source": [
    "### Preenchimento da coluna BMI"
   ]
  },
  {
   "cell_type": "code",
   "execution_count": 133,
   "metadata": {},
   "outputs": [
    {
     "name": "stdout",
     "output_type": "stream",
     "text": [
      "Mean BMI: 33.06293706293706\n"
     ]
    },
    {
     "name": "stderr",
     "output_type": "stream",
     "text": [
      "/tmp/ipykernel_23411/1766224215.py:6: FutureWarning: A value is trying to be set on a copy of a DataFrame or Series through chained assignment using an inplace method.\n",
      "The behavior will change in pandas 3.0. This inplace method will never work because the intermediate object on which we are setting values always behaves as a copy.\n",
      "\n",
      "For example, when doing 'df[col].method(value, inplace=True)', try using 'df.method({col: value}, inplace=True)' or df[col] = df[col].method(value) instead, to perform the operation inplace on the original object.\n",
      "\n",
      "\n",
      "  df['BMI'].fillna(mean_bmi, inplace=True)\n"
     ]
    }
   ],
   "source": [
    "mean_bmi = df_no_outliers['BMI'].mean()\n",
    "\n",
    "print(f\"Mean BMI: {mean_bmi}\")\n",
    "\n",
    "# Replace missing values with the mean BMI\n",
    "df['BMI'].fillna(mean_bmi, inplace=True)"
   ]
  },
  {
   "cell_type": "code",
   "execution_count": 134,
   "metadata": {},
   "outputs": [
    {
     "name": "stdout",
     "output_type": "stream",
     "text": [
      "Number of sick patients: 67\n",
      "Number of healthy patients: 131\n"
     ]
    }
   ],
   "source": [
    "qtd_sick = df[df['Outcome'] == 1].shape[0]\n",
    "qtd_healthy = df[df['Outcome'] == 0].shape[0]\n",
    "\n",
    "print(f\"Number of sick patients: {qtd_sick}\")\n",
    "print(f\"Number of healthy patients: {qtd_healthy}\")"
   ]
  },
  {
   "cell_type": "code",
   "execution_count": 135,
   "metadata": {},
   "outputs": [],
   "source": [
    "df = df[df['BloodPressure'] < 120]\n",
    "df = df[df['BloodPressure'] > 40]\n",
    "\n",
    "df = df[df['SkinThickness'] < 45]\n",
    "df = df[df['SkinThickness'] > 15]\n",
    "df = df[df['Insulin'] < 320]\n",
    "df = df[df['Glucose'] < 200]\n",
    "\n",
    "df = df[df['BMI'] < 50]"
   ]
  },
  {
   "cell_type": "markdown",
   "metadata": {},
   "source": [
    "## Resultado das etapas de pré-processamento"
   ]
  },
  {
   "cell_type": "code",
   "execution_count": 136,
   "metadata": {},
   "outputs": [
    {
     "data": {
      "text/plain": [
       "Glucose                     0\n",
       "BloodPressure               0\n",
       "SkinThickness               0\n",
       "Insulin                     0\n",
       "BMI                         0\n",
       "DiabetesPedigreeFunction    0\n",
       "Outcome                     0\n",
       "dtype: int64"
      ]
     },
     "execution_count": 136,
     "metadata": {},
     "output_type": "execute_result"
    }
   ],
   "source": [
    "df.isnull().sum()"
   ]
  },
  {
   "cell_type": "code",
   "execution_count": 137,
   "metadata": {},
   "outputs": [
    {
     "name": "stdout",
     "output_type": "stream",
     "text": [
      "Number of sick patients: 67\n",
      "Number of healthy patients: 131\n"
     ]
    }
   ],
   "source": [
    "qtd_sick = df[df['Outcome'] == 1].shape[0]\n",
    "qtd_healthy = df[df['Outcome'] == 0].shape[0]\n",
    "\n",
    "print(f\"Number of sick patients: {qtd_sick}\")\n",
    "print(f\"Number of healthy patients: {qtd_healthy}\")"
   ]
  },
  {
   "cell_type": "code",
   "execution_count": 138,
   "metadata": {},
   "outputs": [
    {
     "name": "stdout",
     "output_type": "stream",
     "text": [
      "<class 'pandas.core.frame.DataFrame'>\n",
      "Index: 198 entries, 3 to 569\n",
      "Data columns (total 7 columns):\n",
      " #   Column                    Non-Null Count  Dtype  \n",
      "---  ------                    --------------  -----  \n",
      " 0   Glucose                   198 non-null    float64\n",
      " 1   BloodPressure             198 non-null    float64\n",
      " 2   SkinThickness             198 non-null    float64\n",
      " 3   Insulin                   198 non-null    float64\n",
      " 4   BMI                       198 non-null    float64\n",
      " 5   DiabetesPedigreeFunction  198 non-null    float64\n",
      " 6   Outcome                   198 non-null    int64  \n",
      "dtypes: float64(6), int64(1)\n",
      "memory usage: 12.4 KB\n"
     ]
    }
   ],
   "source": [
    "df.info()"
   ]
  },
  {
   "cell_type": "markdown",
   "metadata": {},
   "source": [
    "## Normalização"
   ]
  },
  {
   "cell_type": "code",
   "execution_count": 139,
   "metadata": {},
   "outputs": [
    {
     "data": {
      "text/html": [
       "<div>\n",
       "<style scoped>\n",
       "    .dataframe tbody tr th:only-of-type {\n",
       "        vertical-align: middle;\n",
       "    }\n",
       "\n",
       "    .dataframe tbody tr th {\n",
       "        vertical-align: top;\n",
       "    }\n",
       "\n",
       "    .dataframe thead th {\n",
       "        text-align: right;\n",
       "    }\n",
       "</style>\n",
       "<table border=\"1\" class=\"dataframe\">\n",
       "  <thead>\n",
       "    <tr style=\"text-align: right;\">\n",
       "      <th></th>\n",
       "      <th>Glucose</th>\n",
       "      <th>BloodPressure</th>\n",
       "      <th>SkinThickness</th>\n",
       "      <th>Insulin</th>\n",
       "      <th>BMI</th>\n",
       "      <th>DiabetesPedigreeFunction</th>\n",
       "      <th>Outcome</th>\n",
       "    </tr>\n",
       "  </thead>\n",
       "  <tbody>\n",
       "    <tr>\n",
       "      <th>3</th>\n",
       "      <td>0.534884</td>\n",
       "      <td>0.131579</td>\n",
       "      <td>0.622222</td>\n",
       "      <td>0.208791</td>\n",
       "      <td>0.626316</td>\n",
       "      <td>0.981729</td>\n",
       "      <td>1.0</td>\n",
       "    </tr>\n",
       "    <tr>\n",
       "      <th>6</th>\n",
       "      <td>1.000000</td>\n",
       "      <td>0.526316</td>\n",
       "      <td>0.844444</td>\n",
       "      <td>0.723901</td>\n",
       "      <td>0.294737</td>\n",
       "      <td>0.032531</td>\n",
       "      <td>1.0</td>\n",
       "    </tr>\n",
       "    <tr>\n",
       "      <th>12</th>\n",
       "      <td>0.387597</td>\n",
       "      <td>0.710526</td>\n",
       "      <td>0.888889</td>\n",
       "      <td>0.293956</td>\n",
       "      <td>0.697368</td>\n",
       "      <td>0.207665</td>\n",
       "      <td>1.0</td>\n",
       "    </tr>\n",
       "    <tr>\n",
       "      <th>14</th>\n",
       "      <td>0.271318</td>\n",
       "      <td>0.000000</td>\n",
       "      <td>0.688889</td>\n",
       "      <td>0.092033</td>\n",
       "      <td>0.631579</td>\n",
       "      <td>0.043672</td>\n",
       "      <td>0.0</td>\n",
       "    </tr>\n",
       "    <tr>\n",
       "      <th>15</th>\n",
       "      <td>0.449612</td>\n",
       "      <td>0.763158</td>\n",
       "      <td>0.755556</td>\n",
       "      <td>0.300824</td>\n",
       "      <td>0.526316</td>\n",
       "      <td>0.275847</td>\n",
       "      <td>0.0</td>\n",
       "    </tr>\n",
       "  </tbody>\n",
       "</table>\n",
       "</div>"
      ],
      "text/plain": [
       "     Glucose  BloodPressure  SkinThickness   Insulin       BMI  \\\n",
       "3   0.534884       0.131579       0.622222  0.208791  0.626316   \n",
       "6   1.000000       0.526316       0.844444  0.723901  0.294737   \n",
       "12  0.387597       0.710526       0.888889  0.293956  0.697368   \n",
       "14  0.271318       0.000000       0.688889  0.092033  0.631579   \n",
       "15  0.449612       0.763158       0.755556  0.300824  0.526316   \n",
       "\n",
       "    DiabetesPedigreeFunction  Outcome  \n",
       "3                   0.981729      1.0  \n",
       "6                   0.032531      1.0  \n",
       "12                  0.207665      1.0  \n",
       "14                  0.043672      0.0  \n",
       "15                  0.275847      0.0  "
      ]
     },
     "execution_count": 139,
     "metadata": {},
     "output_type": "execute_result"
    }
   ],
   "source": [
    "df_normalized = df.copy() \n",
    "  \n",
    "# apply normalization techniques \n",
    "for column in df_normalized.columns: \n",
    "    df_normalized[column] = (df_normalized[column] - df_normalized[column].min()) / (df_normalized[column].max() - df_normalized[column].min())     \n",
    "  \n",
    "df_normalized.head()"
   ]
  },
  {
   "cell_type": "markdown",
   "metadata": {},
   "source": [
    "Arredondamento"
   ]
  },
  {
   "cell_type": "markdown",
   "metadata": {},
   "source": [
    "Criando o dataset pré-processado"
   ]
  },
  {
   "cell_type": "code",
   "execution_count": 140,
   "metadata": {},
   "outputs": [],
   "source": [
    "df_normalized.to_csv('diabetes_dataset_pre_processed.csv', index=False)"
   ]
  }
 ],
 "metadata": {
  "kernelspec": {
   "display_name": "Python 3",
   "language": "python",
   "name": "python3"
  },
  "language_info": {
   "codemirror_mode": {
    "name": "ipython",
    "version": 3
   },
   "file_extension": ".py",
   "mimetype": "text/x-python",
   "name": "python",
   "nbconvert_exporter": "python",
   "pygments_lexer": "ipython3",
   "version": "3.11.6"
  }
 },
 "nbformat": 4,
 "nbformat_minor": 2
}
