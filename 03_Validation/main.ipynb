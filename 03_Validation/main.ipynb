{
 "cells": [
  {
   "cell_type": "code",
   "execution_count": 19,
   "metadata": {},
   "outputs": [],
   "source": [
    "# Package imports\n",
    "import numpy as np\n",
    "import matplotlib.pyplot as plt\n",
    "import sklearn\n",
    "import sklearn.datasets\n",
    "import sklearn.linear_model\n",
    "import pandas as pd\n",
    "\n",
    "from sklearn.preprocessing import StandardScaler\n",
    "\n",
    "from sklearn.model_selection import train_test_split\n",
    "#from planar_utils import plot_decision_boundary, sigmoid, load_planar_dataset, load_extra_datasets"
   ]
  },
  {
   "cell_type": "markdown",
   "metadata": {},
   "source": [
    "##### Entrando com os dados"
   ]
  },
  {
   "cell_type": "code",
   "execution_count": 20,
   "metadata": {},
   "outputs": [],
   "source": [
    "df = pd.read_csv('abalone_dataset.csv')\n",
    "\n",
    "df.loc[(df['sex'] == 'M'), 'sex'] = 2\n",
    "df.loc[(df['sex'] == 'F'), 'sex'] = 1\n",
    "df.loc[(df['sex'] == 'I'), 'sex'] = 0\n",
    "\n",
    "X = df.iloc[:, :8].values #Array 2D\n",
    "y = df.iloc[:, 8].values\n",
    "\n",
    "scalar = StandardScaler()\n",
    "X = scalar.fit_transform(X)\n",
    "\n",
    "X_train, X_val, y_train, y_val = train_test_split(X, y, test_size=0.1, random_state=42)"
   ]
  },
  {
   "cell_type": "code",
   "execution_count": 21,
   "metadata": {},
   "outputs": [
    {
     "name": "stdout",
     "output_type": "stream",
     "text": [
      "(3132, 8)\n"
     ]
    }
   ],
   "source": [
    "print(X.shape)"
   ]
  },
  {
   "cell_type": "markdown",
   "metadata": {},
   "source": [
    "#### Modelo Sequencial de Redes Densas"
   ]
  },
  {
   "cell_type": "code",
   "execution_count": 22,
   "metadata": {},
   "outputs": [],
   "source": [
    "import keras\n",
    "from tensorflow.keras.models import Sequential\n",
    "from tensorflow.keras.layers import Dense\n",
    "from tensorflow.keras.optimizers import Adam\n",
    "from tensorflow.keras.regularizers import l2\n",
    "from tensorflow.keras.initializers import HeNormal\n",
    "\n",
    "def create_model():\n",
    "    # Exemplo de modelo de classificação\n",
    "    model = Sequential([\n",
    "        Dense(16, activation='relu', input_shape=(8,), kernel_initializer= HeNormal(), kernel_regularizer=l2(0.001)),\n",
    "        Dense(8, activation='relu', kernel_initializer= HeNormal(), kernel_regularizer=l2(0.001)),\n",
    "        Dense(4, activation='softmax',kernel_initializer= HeNormal())  # Camada de saída para classificação\n",
    "    ])\n",
    "\n",
    "    optimizer = Adam(learning_rate=0.01)\n",
    "\n",
    "    model.compile(\n",
    "        loss='sparse_categorical_crossentropy',  # Função de perda para classificação\n",
    "        optimizer=optimizer,\n",
    "        metrics=['accuracy']  # Métricas para classificação\n",
    "    )\n",
    "\n",
    "    return model"
   ]
  },
  {
   "cell_type": "code",
   "execution_count": 23,
   "metadata": {},
   "outputs": [
    {
     "name": "stderr",
     "output_type": "stream",
     "text": [
      "c:\\Users\\CarlosPessoa\\AppData\\Local\\Programs\\Python\\Python312\\Lib\\site-packages\\keras\\src\\layers\\core\\dense.py:87: UserWarning: Do not pass an `input_shape`/`input_dim` argument to a layer. When using Sequential models, prefer using an `Input(shape)` object as the first layer in the model instead.\n",
      "  super().__init__(activity_regularizer=activity_regularizer, **kwargs)\n"
     ]
    },
    {
     "name": "stdout",
     "output_type": "stream",
     "text": [
      "\u001b[1m10/10\u001b[0m \u001b[32m━━━━━━━━━━━━━━━━━━━━\u001b[0m\u001b[37m\u001b[0m \u001b[1m0s\u001b[0m 1ms/step - accuracy: 0.6960 - loss: 0.7481 \n",
      "Loss: 0.7544, Mean Squared Error: 0.6879\n",
      "\u001b[1m10/10\u001b[0m \u001b[32m━━━━━━━━━━━━━━━━━━━━\u001b[0m\u001b[37m\u001b[0m \u001b[1m0s\u001b[0m 4ms/step \n"
     ]
    }
   ],
   "source": [
    "# Treinar o modelo. Bom com eta = 0.01\n",
    "model = create_model()\n",
    "model.fit(X_train, y_train, epochs=60, batch_size=200, validation_data=(X_val, y_val), verbose=0)\n",
    "\n",
    "# Avaliar o modelo\n",
    "loss, mse = model.evaluate(X_val, y_val)\n",
    "print(f'Loss: {loss:.4f}, Mean Squared Error: {mse:.4f}')\n",
    "\n",
    "y_predNN = model.predict(X_val)\n",
    "y_predNN = np.argmax(y_predNN, axis=1)"
   ]
  },
  {
   "cell_type": "code",
   "execution_count": 24,
   "metadata": {},
   "outputs": [
    {
     "data": {
      "text/plain": [
       "array([2, 3, 3, 2, 1, 2, 2, 1, 3, 2, 1, 3, 2, 2, 1, 2, 3, 3, 1, 2, 1, 3,\n",
       "       2, 1, 3, 1, 2, 1, 1, 1, 2, 3, 1, 2, 3, 2, 3, 3, 2, 3, 3, 2, 2, 3,\n",
       "       3, 3, 3, 3, 2, 1, 1, 2, 2, 2, 1, 1, 1, 2, 3, 1, 2, 2, 3, 1, 1, 3,\n",
       "       3, 1, 3, 1, 3, 1, 3, 1, 2, 3, 3, 2, 1, 3, 3, 1, 3, 1, 3, 1, 2, 2,\n",
       "       3, 2, 3, 3, 2, 2, 3, 2, 3, 1, 1, 1, 2, 3, 1, 1, 1, 3, 2, 2, 2, 2,\n",
       "       1, 1, 3, 3, 1, 3, 1, 3, 3, 3, 1, 3, 1, 2, 2, 2, 3, 1, 2, 1, 1, 2,\n",
       "       3, 1, 3, 1, 1, 2, 1, 2, 1, 2, 2, 2, 1, 3, 2, 1, 3, 2, 3, 2, 2, 1,\n",
       "       3, 1, 3, 3, 1, 3, 1, 2, 1, 1, 3, 2, 3, 1, 2, 2, 3, 3, 3, 3, 1, 2,\n",
       "       2, 1, 2, 1, 3, 1, 3, 3, 1, 3, 3, 1, 1, 2, 3, 1, 1, 1, 2, 3, 2, 2,\n",
       "       3, 2, 1, 2, 2, 3, 1, 3, 2, 2, 2, 1, 1, 3, 2, 1, 3, 1, 2, 1, 1, 1,\n",
       "       1, 2, 1, 2, 3, 3, 3, 2, 1, 3, 2, 2, 2, 3, 3, 1, 2, 3, 3, 1, 3, 2,\n",
       "       3, 3, 3, 1, 1, 1, 2, 1, 1, 1, 2, 3, 1, 3, 3, 1, 1, 1, 2, 2, 1, 2,\n",
       "       2, 3, 2, 1, 1, 1, 2, 2, 1, 3, 1, 1, 2, 3, 3, 3, 3, 2, 3, 1, 2, 3,\n",
       "       2, 3, 1, 1, 3, 1, 1, 1, 3, 2, 2, 1, 1, 3, 3, 1, 3, 3, 2, 1, 1, 1,\n",
       "       2, 2, 1, 1, 2, 3], dtype=int64)"
      ]
     },
     "execution_count": 24,
     "metadata": {},
     "output_type": "execute_result"
    }
   ],
   "source": [
    "y_predNN"
   ]
  },
  {
   "cell_type": "code",
   "execution_count": 25,
   "metadata": {},
   "outputs": [
    {
     "data": {
      "text/plain": [
       "array([3, 2, 3, 2, 1, 2, 2, 1, 2, 3, 2, 3, 2, 2, 1, 2, 3, 2, 1, 2, 1, 3,\n",
       "       2, 1, 3, 1, 1, 2, 1, 1, 2, 3, 1, 2, 3, 2, 2, 3, 2, 2, 2, 2, 3, 2,\n",
       "       3, 3, 3, 3, 3, 1, 1, 2, 3, 3, 3, 1, 1, 2, 3, 2, 2, 3, 3, 1, 1, 3,\n",
       "       3, 1, 2, 3, 3, 1, 3, 1, 3, 3, 1, 1, 1, 2, 3, 2, 3, 1, 2, 1, 2, 2,\n",
       "       3, 1, 2, 3, 1, 2, 2, 2, 2, 1, 1, 2, 2, 3, 1, 1, 1, 2, 2, 2, 2, 3,\n",
       "       1, 1, 3, 3, 1, 3, 2, 3, 2, 3, 1, 3, 1, 2, 1, 3, 3, 1, 2, 2, 2, 2,\n",
       "       3, 1, 2, 2, 1, 2, 1, 3, 1, 1, 2, 2, 2, 1, 2, 1, 3, 2, 3, 2, 2, 1,\n",
       "       2, 1, 3, 3, 1, 3, 1, 3, 1, 2, 3, 2, 3, 1, 2, 2, 3, 3, 2, 3, 1, 3,\n",
       "       3, 1, 2, 3, 2, 3, 3, 2, 3, 2, 2, 1, 1, 2, 3, 1, 1, 1, 2, 3, 2, 2,\n",
       "       2, 2, 1, 1, 3, 3, 3, 3, 1, 3, 2, 1, 1, 3, 1, 2, 2, 1, 3, 1, 1, 2,\n",
       "       1, 3, 1, 2, 3, 3, 3, 2, 1, 3, 3, 2, 1, 3, 3, 1, 2, 2, 3, 2, 3, 2,\n",
       "       3, 3, 3, 2, 3, 1, 3, 1, 1, 1, 3, 3, 1, 3, 3, 1, 1, 1, 3, 1, 1, 2,\n",
       "       2, 1, 3, 1, 1, 1, 1, 1, 1, 3, 1, 1, 2, 3, 3, 3, 3, 2, 3, 1, 2, 3,\n",
       "       2, 3, 1, 1, 3, 1, 2, 1, 2, 1, 2, 1, 3, 3, 3, 1, 2, 3, 3, 1, 1, 2,\n",
       "       3, 1, 2, 1, 3, 2], dtype=int64)"
      ]
     },
     "execution_count": 25,
     "metadata": {},
     "output_type": "execute_result"
    }
   ],
   "source": [
    "y_val"
   ]
  },
  {
   "cell_type": "code",
   "execution_count": 26,
   "metadata": {},
   "outputs": [
    {
     "data": {
      "text/plain": [
       "632"
      ]
     },
     "execution_count": 26,
     "metadata": {},
     "output_type": "execute_result"
    }
   ],
   "source": [
    "y_val.sum()"
   ]
  },
  {
   "cell_type": "code",
   "execution_count": 27,
   "metadata": {},
   "outputs": [
    {
     "data": {
      "text/plain": [
       "621"
      ]
     },
     "execution_count": 27,
     "metadata": {},
     "output_type": "execute_result"
    }
   ],
   "source": [
    "y_predNN.sum()"
   ]
  },
  {
   "cell_type": "markdown",
   "metadata": {},
   "source": [
    "### Testando com os dados do professor"
   ]
  },
  {
   "cell_type": "code",
   "execution_count": 28,
   "metadata": {},
   "outputs": [
    {
     "name": "stdout",
     "output_type": "stream",
     "text": [
      " - Aplicando modelo para enviando para o servidor\n"
     ]
    }
   ],
   "source": [
    "import pandas as pd\n",
    "import requests\n",
    "\n",
    "#realizando previsões com o arquivo de\n",
    "print(' - Aplicando modelo para enviando para o servidor')\n",
    "df = pd.read_csv('abalone_app.csv')"
   ]
  },
  {
   "cell_type": "code",
   "execution_count": 29,
   "metadata": {},
   "outputs": [
    {
     "name": "stdout",
     "output_type": "stream",
     "text": [
      "Modificado!\n"
     ]
    }
   ],
   "source": [
    "# df.pop('sex')\n",
    "# print(\"Removido!\")\n",
    "\n",
    "df.loc[(df['sex'] == 'M'), 'sex'] = 2\n",
    "df.loc[(df['sex'] == 'F'), 'sex'] = 1\n",
    "df.loc[(df['sex'] == 'I'), 'sex'] = 0\n",
    "\n",
    "print(\"Modificado!\")"
   ]
  },
  {
   "cell_type": "code",
   "execution_count": 30,
   "metadata": {},
   "outputs": [],
   "source": [
    "df = scalar.fit_transform(df)"
   ]
  },
  {
   "cell_type": "code",
   "execution_count": 31,
   "metadata": {},
   "outputs": [
    {
     "name": "stdout",
     "output_type": "stream",
     "text": [
      "\u001b[1m33/33\u001b[0m \u001b[32m━━━━━━━━━━━━━━━━━━━━\u001b[0m\u001b[37m\u001b[0m \u001b[1m0s\u001b[0m 625us/step\n"
     ]
    }
   ],
   "source": [
    "y_pred = model.predict(df)"
   ]
  },
  {
   "cell_type": "code",
   "execution_count": 32,
   "metadata": {},
   "outputs": [],
   "source": [
    "# y_pred_classes = np.argmax(y_pred, axis=1)\n",
    "# y_pred_classes"
   ]
  },
  {
   "cell_type": "code",
   "execution_count": 33,
   "metadata": {},
   "outputs": [],
   "source": [
    "y_pred = np.argmax(y_pred, axis=1)"
   ]
  },
  {
   "cell_type": "code",
   "execution_count": 34,
   "metadata": {},
   "outputs": [
    {
     "data": {
      "text/plain": [
       "array([3, 2, 2, 3, 3, 1, 1, 2, 3, 3, 3, 3, 3, 1, 1, 3, 2, 1, 3, 3, 1, 2,\n",
       "       1, 2, 3, 2, 2, 3, 3, 3, 3, 2, 1, 3, 2, 2, 2, 3, 2, 2, 1, 3, 3, 3,\n",
       "       3, 3, 3, 3, 2, 1, 2, 3, 3, 3, 2, 3, 3, 1, 1, 1, 3, 3, 3, 3, 2, 1,\n",
       "       2, 3, 3, 1, 2, 3, 1, 1, 1, 1, 1, 2, 1, 1, 3, 3, 2, 2, 2, 3, 2, 1,\n",
       "       2, 3, 3, 1, 3, 1, 2, 2, 3, 2, 3, 1], dtype=int64)"
      ]
     },
     "execution_count": 34,
     "metadata": {},
     "output_type": "execute_result"
    }
   ],
   "source": [
    "y_pred[:100]"
   ]
  },
  {
   "cell_type": "code",
   "execution_count": 35,
   "metadata": {},
   "outputs": [
    {
     "name": "stdout",
     "output_type": "stream",
     "text": [
      " - Resposta do servidor:\n",
      " {\"status\":\"success\",\"dev_key\":\"Set fire in the Machine\",\"accuracy\":0.6593301435406699,\"old_accuracy\":0.65933014354067} \n",
      "\n"
     ]
    }
   ],
   "source": [
    "# Enviando previsões realizadas com o modelo para o servidor\n",
    "URL = \"https://aydanomachado.com/mlclass/03_Validation.php\"\n",
    "\n",
    "DEV_KEY = \"Set fire in the Machine\"\n",
    "\n",
    "# json para ser enviado para o servidor\n",
    "data = {'dev_key':DEV_KEY,\n",
    "        'predictions':pd.Series(y_pred).to_json(orient='values')}\n",
    "\n",
    "# Enviando requisição e salvando o objeto resposta\n",
    "r = requests.post(url = URL, data = data)\n",
    "\n",
    "# Extraindo e imprimindo o texto da resposta\n",
    "pastebin_url = r.text\n",
    "print(\" - Resposta do servidor:\\n\", r.text, \"\\n\")"
   ]
  },
  {
   "cell_type": "code",
   "execution_count": null,
   "metadata": {},
   "outputs": [],
   "source": []
  }
 ],
 "metadata": {
  "kernelspec": {
   "display_name": "Python 3",
   "language": "python",
   "name": "python3"
  },
  "language_info": {
   "codemirror_mode": {
    "name": "ipython",
    "version": 3
   },
   "file_extension": ".py",
   "mimetype": "text/x-python",
   "name": "python",
   "nbconvert_exporter": "python",
   "pygments_lexer": "ipython3",
   "version": "3.12.2"
  }
 },
 "nbformat": 4,
 "nbformat_minor": 2
}
